{
 "cells": [
  {
   "cell_type": "markdown",
   "metadata": {},
   "source": [
    "# \"Продвинутый Python\". Магистерская программа ВШЭ."
   ]
  },
  {
   "cell_type": "markdown",
   "metadata": {},
   "source": [
    "**Цель курса**: получить предстваление о принципах создания сервисов и реализовать их в собственном ML-проекте.\n",
    "\n",
    "**Ключевые навыки**: ООП, Django, luigi"
   ]
  },
  {
   "cell_type": "markdown",
   "metadata": {},
   "source": [
    "### Отчётность\n",
    "\n",
    "Зачётные баллы будут даваться за:\n",
    "\n",
    "1) __Курсовой проект__ \n",
    "\n",
    "В курсовом проекте необходимо будет сделать сервис, например, для решения какой-нибудь ML-задачи (но не обязательно). Список требований к сервису будет озвучен позже. За проект можно получить до **6 баллов**, причем проект должен сдаваться не за один раз. \n",
    "\n",
    "2) __Контрольные работы, контесты__ (но это не точно)\n",
    "\n",
    "Проводятся на занятиях. Могут принести до **2 баллов**.\n",
    "\n",
    "3) __Домашние задания__\n",
    "\n",
    "Могут принести неопределенное количество баллов.\n",
    "\n",
    "4) __Задания на занятии__\n",
    "\n",
    "Несложные задания за мелкие баллы.\n",
    "\n",
    "Суммарно можно будет **получить больше 10 баллов**. **Баллов хватит на всех :)**\n",
    "\n",
    "Все задачи должны быть оформлены в соответствии с PEP 8."
   ]
  },
  {
   "cell_type": "markdown",
   "metadata": {},
   "source": [
    "## Занятие №0. Core libraries. Разминка."
   ]
  },
  {
   "cell_type": "code",
   "execution_count": 84,
   "metadata": {},
   "outputs": [],
   "source": [
    "import sys"
   ]
  },
  {
   "cell_type": "markdown",
   "metadata": {},
   "source": [
    "**Как получить путь к интерпретатору?**"
   ]
  },
  {
   "cell_type": "code",
   "execution_count": 2,
   "metadata": {},
   "outputs": [],
   "source": [
    "sys.executable;"
   ]
  },
  {
   "cell_type": "markdown",
   "metadata": {},
   "source": [
    "**Как узнать, где ищутся модули для импорта?**"
   ]
  },
  {
   "cell_type": "code",
   "execution_count": 3,
   "metadata": {},
   "outputs": [],
   "source": [
    "sys.path;"
   ]
  },
  {
   "cell_type": "markdown",
   "metadata": {},
   "source": [
    "**Что может помочь написать кросс-платформенный код?**"
   ]
  },
  {
   "cell_type": "code",
   "execution_count": 4,
   "metadata": {},
   "outputs": [
    {
     "data": {
      "text/plain": [
       "'win32'"
      ]
     },
     "execution_count": 4,
     "metadata": {},
     "output_type": "execute_result"
    }
   ],
   "source": [
    "sys.platform"
   ]
  },
  {
   "cell_type": "markdown",
   "metadata": {},
   "source": [
    "**Как перенаправить поток вывода?**"
   ]
  },
  {
   "cell_type": "code",
   "execution_count": 7,
   "metadata": {},
   "outputs": [],
   "source": [
    "with open('log.txt', 'w') as f:\n",
    "    print(2, file=f)"
   ]
  },
  {
   "cell_type": "markdown",
   "metadata": {},
   "source": [
    "### Задача №0"
   ]
  },
  {
   "cell_type": "markdown",
   "metadata": {},
   "source": [
    "Вывести распределение слов в Zen of Python."
   ]
  },
  {
   "cell_type": "code",
   "execution_count": 9,
   "metadata": {
    "scrolled": true
   },
   "outputs": [],
   "source": [
    "from io import StringIO\n",
    "\n",
    "import sys"
   ]
  },
  {
   "cell_type": "markdown",
   "metadata": {},
   "source": [
    "Перенаправим поток вывода в переменную"
   ]
  },
  {
   "cell_type": "code",
   "execution_count": 10,
   "metadata": {},
   "outputs": [],
   "source": [
    "stdout = sys.stdout\n",
    "\n",
    "text_from_this = StringIO()\n",
    "sys.stdout = text_from_this"
   ]
  },
  {
   "cell_type": "markdown",
   "metadata": {},
   "source": [
    "Запишем Zen of Python в переменную `text_from_this` и вернем консольный вывод"
   ]
  },
  {
   "cell_type": "code",
   "execution_count": 11,
   "metadata": {},
   "outputs": [],
   "source": [
    "import this"
   ]
  },
  {
   "cell_type": "code",
   "execution_count": 12,
   "metadata": {},
   "outputs": [],
   "source": [
    "sys.stdout = stdout "
   ]
  },
  {
   "cell_type": "code",
   "execution_count": 15,
   "metadata": {},
   "outputs": [],
   "source": [
    "import re\n",
    "from collections import Counter, OrderedDict"
   ]
  },
  {
   "cell_type": "code",
   "execution_count": 16,
   "metadata": {},
   "outputs": [],
   "source": [
    "mapping_rules = {\n",
    "    \"[-.\\n,*!]\": \" \",\n",
    "    \"n't\": \" not\",\n",
    "    \"'re\": \" are\",\n",
    "    \"it's\": \"it is\",\n",
    "    \"let's\": \"let us\"\n",
    "}"
   ]
  },
  {
   "cell_type": "markdown",
   "metadata": {},
   "source": [
    "Подумайте, в чем непотимальность следующего блока? Как сделать оптимальным?"
   ]
  },
  {
   "cell_type": "code",
   "execution_count": 23,
   "metadata": {},
   "outputs": [],
   "source": [
    "zen_string = text_from_this.getvalue().lower()\n",
    "\n",
    "for rule in mapping_rules:\n",
    "    zen_string = re.sub(rule, mapping_rules[rule], zen_string)"
   ]
  },
  {
   "cell_type": "code",
   "execution_count": 28,
   "metadata": {
    "scrolled": true
   },
   "outputs": [
    {
     "data": {
      "text/plain": [
       "[('is', 11),\n",
       " ('better', 8),\n",
       " ('than', 8),\n",
       " ('the', 6),\n",
       " ('to', 5),\n",
       " ('of', 3),\n",
       " ('are', 3),\n",
       " ('although', 3),\n",
       " ('never', 3),\n",
       " ('be', 3),\n",
       " ('one', 3),\n",
       " ('it', 3),\n",
       " ('idea', 3),\n",
       " ('complex', 2),\n",
       " ('special', 2),\n",
       " ('not', 2),\n",
       " ('should', 2),\n",
       " ('unless', 2),\n",
       " ('obvious', 2),\n",
       " ('way', 2),\n",
       " ('do', 2),\n",
       " ('may', 2),\n",
       " ('now', 2),\n",
       " ('if', 2),\n",
       " ('implementation', 2),\n",
       " ('explain', 2),\n",
       " ('a', 2),\n",
       " ('zen', 1),\n",
       " ('python', 1),\n",
       " ('by', 1),\n",
       " ('tim', 1),\n",
       " ('peters', 1),\n",
       " ('beautiful', 1),\n",
       " ('ugly', 1),\n",
       " ('explicit', 1),\n",
       " ('implicit', 1),\n",
       " ('simple', 1),\n",
       " ('complicated', 1),\n",
       " ('flat', 1),\n",
       " ('nested', 1),\n",
       " ('sparse', 1),\n",
       " ('dense', 1),\n",
       " ('readability', 1),\n",
       " ('counts', 1),\n",
       " ('cases', 1),\n",
       " ('enough', 1),\n",
       " ('break', 1),\n",
       " ('rules', 1),\n",
       " ('practicality', 1),\n",
       " ('beats', 1),\n",
       " ('purity', 1),\n",
       " ('errors', 1),\n",
       " ('pass', 1),\n",
       " ('silently', 1),\n",
       " ('explicitly', 1),\n",
       " ('silenced', 1),\n",
       " ('in', 1),\n",
       " ('face', 1),\n",
       " ('ambiguity', 1),\n",
       " ('refuse', 1),\n",
       " ('temptation', 1),\n",
       " ('guess', 1),\n",
       " ('there', 1),\n",
       " ('and', 1),\n",
       " ('preferably', 1),\n",
       " ('only', 1),\n",
       " ('that', 1),\n",
       " ('at', 1),\n",
       " ('first', 1),\n",
       " ('you', 1),\n",
       " ('dutch', 1),\n",
       " ('often', 1),\n",
       " ('right', 1),\n",
       " ('hard', 1),\n",
       " ('bad', 1),\n",
       " ('easy', 1),\n",
       " ('good', 1),\n",
       " ('namespaces', 1),\n",
       " ('honking', 1),\n",
       " ('great', 1),\n",
       " ('let', 1),\n",
       " ('us', 1),\n",
       " ('more', 1),\n",
       " ('those', 1)]"
      ]
     },
     "execution_count": 28,
     "metadata": {},
     "output_type": "execute_result"
    }
   ],
   "source": [
    "words_distribution = Counter(zen_string.split())\n",
    "words_distribution.most_common()"
   ]
  },
  {
   "cell_type": "markdown",
   "metadata": {},
   "source": [
    "### Домашнее задание №0 [0.2 балла]"
   ]
  },
  {
   "cell_type": "markdown",
   "metadata": {},
   "source": [
    "**Условие**:\n",
    "\n",
    "Функция `delete_zeros_from_array` принимает на вход массив целых чисел из промежутка [0; 5] и удалает из него все _нули_. Алгоритм должен иметь сложность `O(N)`, где N - длина массива, и использовать `O(1)` дополнительной памяти.\n",
    "\n",
    "Построить **графики** зависимости времени работы алгоритма от количества элементов в нем. \n",
    "\n",
    "**Примечания**:\n",
    "\n",
    "1) Для наглядности лучше генерить массивы, в которых количество удаляемых элементов **больше трети** от всех элементов.\n",
    "\n",
    "2) В такой постановке можно проверить, как разработчик выбирает имена переменных и думает ли о функции глобально. Например, следующим вопросом было бы \"А что если хотим удалять единицы?\""
   ]
  },
  {
   "cell_type": "code",
   "execution_count": 62,
   "metadata": {},
   "outputs": [],
   "source": [
    "from functools import partial\n",
    "\n",
    "def remove_elements_from_array(array, element):\n",
    "    index = None\n",
    "    elements_to_delete_number = 0\n",
    "\n",
    "    for i in range(len(array)):\n",
    "        if array[i] == element:\n",
    "            index = i\n",
    "            break  \n",
    "  \n",
    "    if index is None:\n",
    "        return array\n",
    "    \n",
    "    \n",
    "    for j in range(index + 1, len(array)):\n",
    "        if array[j] != element:\n",
    "            array[index], array[j] = array[j], element\n",
    "            if elements_to_delete_number != 0:  \n",
    "                index = j - elements_to_delete_number\n",
    "            else:\n",
    "                index = j\n",
    "\n",
    "        elif array[j] == element:        \n",
    "            elements_to_delete_number += 1\n",
    "    \n",
    "    for j in range(elements_to_delete_number + 1):\n",
    "        array.pop()\n",
    "\n",
    "    return array\n",
    "\n",
    "\n",
    "delete_zeros_from_array = partial(remove_elements_from_array, element=0)\n",
    "delete_ones_from_array = partial(remove_elements_from_array, element=1)"
   ]
  },
  {
   "cell_type": "code",
   "execution_count": 54,
   "metadata": {
    "scrolled": true
   },
   "outputs": [],
   "source": [
    "a = [0, 0, 0, 0, 1, 5, 0, 7, 0, 2, 3, 0, 0, 20, 11, 0, 0]\n",
    "b = [1, 2, 3, 4, 5, 6, 7]"
   ]
  },
  {
   "cell_type": "code",
   "execution_count": 55,
   "metadata": {
    "scrolled": false
   },
   "outputs": [
    {
     "data": {
      "text/plain": [
       "[1, 5, 7, 2, 3, 20, 11]"
      ]
     },
     "execution_count": 55,
     "metadata": {},
     "output_type": "execute_result"
    }
   ],
   "source": [
    "delete_zeros_from_array(a)"
   ]
  },
  {
   "cell_type": "code",
   "execution_count": 56,
   "metadata": {},
   "outputs": [
    {
     "data": {
      "text/plain": [
       "[1, 2, 3, 4, 5, 6, 7]"
      ]
     },
     "execution_count": 56,
     "metadata": {},
     "output_type": "execute_result"
    }
   ],
   "source": [
    "delete_zeros_from_array(b)"
   ]
  },
  {
   "cell_type": "code",
   "execution_count": null,
   "metadata": {},
   "outputs": [],
   "source": []
  },
  {
   "cell_type": "markdown",
   "metadata": {},
   "source": [
    "Проверка, что при удалении единичек из массива, состоящего из нулей и единиц, остаются только нули."
   ]
  },
  {
   "cell_type": "code",
   "execution_count": 69,
   "metadata": {},
   "outputs": [
    {
     "data": {
      "text/plain": [
       "0.0"
      ]
     },
     "execution_count": 69,
     "metadata": {},
     "output_type": "execute_result"
    }
   ],
   "source": [
    "sums_array = []\n",
    "for i in range(1, 1000):\n",
    "    array = list(np.random.randint(0, 2, size = i))\n",
    "    sums_array.append(np.sum(delete_ones_from_array(array)))\n",
    "\n",
    "sum(sums_array)"
   ]
  },
  {
   "cell_type": "code",
   "execution_count": 77,
   "metadata": {},
   "outputs": [
    {
     "data": {
      "image/png": "[encoded data removed]",
      "text/plain": [
       "<Figure size 864x720 with 1 Axes>"
      ]
     },
     "metadata": {},
     "output_type": "display_data"
    }
   ],
   "source": [
    "import time\n",
    "from matplotlib import pyplot as plt\n",
    "import numpy as np\n",
    "\n",
    "times_array = []\n",
    "for i in range(1, 1000):\n",
    "    time_of_work = []\n",
    "    for j in range(100):\n",
    "        t_start = time.time()\n",
    "        array = list(np.random.randint(0, 2, size = i))\n",
    "        delete_zeros_from_array(array)\n",
    "        time_of_work.append(time.time() - t_start)\n",
    "    times_array.append(np.mean(time_of_work))\n",
    "\n",
    "plt.figure(figsize=(12, 10))\n",
    "plt.plot(times_array)\n",
    "plt.show()"
   ]
  },
  {
   "cell_type": "code",
   "execution_count": null,
   "metadata": {},
   "outputs": [],
   "source": []
  },
  {
   "cell_type": "code",
   "execution_count": null,
   "metadata": {},
   "outputs": [],
   "source": []
  },
  {
   "cell_type": "markdown",
   "metadata": {},
   "source": [
    "### Домашнее задание №1 [0.05 балла]\n",
    "\n",
    "**Условие**:\n",
    "\n",
    "Написать функцию (-и), которая принимает на вход 3 комплексных числа и выводит минимальное из них по модулю без использования функций min, max, sort и т.д.\n",
    "\n",
    "\n",
    "**Комментарии**:\n",
    "\n",
    "1) В процессе сдачи задания, можно будет получить дополнительные баллы\n",
    "\n",
    "2) Код должен быть пригоден для промышленного использования"
   ]
  },
  {
   "cell_type": "code",
   "execution_count": 1,
   "metadata": {},
   "outputs": [],
   "source": [
    "a = complex(1, 2)\n",
    "b = complex(3, 4)\n",
    "c = complex(10, 12)\n",
    "d = complex(-2, 4)"
   ]
  },
  {
   "cell_type": "code",
   "execution_count": 4,
   "metadata": {},
   "outputs": [],
   "source": [
    "def sorting(array):\n",
    "    if len(array) <= 1:\n",
    "        return array\n",
    "    else:\n",
    "        pivot = array[len(array) // 2]\n",
    "        left_array = []\n",
    "        right_array = []\n",
    "        middle_array = []\n",
    "        for number in array:\n",
    "            if number < pivot:\n",
    "                left_array.append(number)\n",
    "            elif number > pivot:\n",
    "                right_array.append(number)\n",
    "            else:\n",
    "                middle_array.append(number)\n",
    "        return sorting(left_array) + middle_array + sorting(right_array)\n",
    "\n",
    "\n",
    "def complex_min(complex_array):\n",
    "    length_list = []\n",
    "    for number in complex_array:\n",
    "        length_list.append(pow(number.imag**2 + number.real**2, 0.5))\n",
    "    \n",
    "    numbers_dic = dict(zip(length_list, complex_array))\n",
    "    result = numbers_dic[sorting(length_list)[0]]\n",
    "  \n",
    "    return result"
   ]
  },
  {
   "cell_type": "code",
   "execution_count": 5,
   "metadata": {},
   "outputs": [
    {
     "data": {
      "text/plain": [
       "(1+2j)"
      ]
     },
     "execution_count": 5,
     "metadata": {},
     "output_type": "execute_result"
    }
   ],
   "source": [
    "complex_min([a, b, c, d])"
   ]
  },
  {
   "cell_type": "markdown",
   "metadata": {},
   "source": [
    "### Домашнее задание №2 [0.18 балла]"
   ]
  },
  {
   "cell_type": "markdown",
   "metadata": {},
   "source": [
    "**Условие**:\n",
    "\n",
    "Вы - банкомат, который работает по следующей схеме: считывает номер вставленной в него карты, парсит его на 4 равные части и генерирует 4 числа Фибоначчи с номерами, соответствущими распаршенным частям. Затем генерирует числа из всевозможных перестановок полученных чисел Фибоначчи (конкатенацией).\n",
    "\n",
    "Для каждого числа из полученного набора банкомат находит НОД с введеным пользователем паролем и возвращает медиану из полученных НОДов. \n",
    "\n",
    "**Комментарии**:\n",
    "\n",
    "1) Поток клиентов большой, операции повторяющиеся - хорошо бы, чтобы со временем банкомат отвечал быстрее на запросы.\n",
    "\n",
    "2) За неполное решение также дается часть баллов.\n",
    "\n",
    "**Ключевые слова**: lru_cache, permutations, алгоритм Евклида"
   ]
  },
  {
   "cell_type": "code",
   "execution_count": 1,
   "metadata": {},
   "outputs": [],
   "source": [
    "import numpy as np\n",
    "from math import gcd\n",
    "from functools import lru_cache, reduce\n",
    "from itertools import permutations\n",
    "import sys\n",
    "sys.setrecursionlimit(40000)\n",
    "\n",
    "@lru_cache(maxsize=None)\n",
    "def F(n):\n",
    "    if n < 2:\n",
    "        return n\n",
    "    return F(n-1) + F(n-2)\n",
    "\n",
    "def casher(card_number, card_password):\n",
    "    card_split = []\n",
    "    for i in [0, 4, 8, 12]:\n",
    "        card_split.append(int(card_number[i:i+4]))\n",
    "    \n",
    "    fib_numbers = [F(num) for num in card_split]\n",
    "    \n",
    "    gcd_list = []\n",
    "    for permutation in permutations(fib_numbers):\n",
    "        concat_of_numbers = int(reduce(lambda x, y: str(x) + str(y), permutation))\n",
    "        gcd_list.append(gcd(concat_of_numbers, card_password))\n",
    "    \n",
    "    return np.median(gcd_list)"
   ]
  },
  {
   "cell_type": "code",
   "execution_count": 2,
   "metadata": {},
   "outputs": [
    {
     "data": {
      "text/plain": [
       "13.0"
      ]
     },
     "execution_count": 2,
     "metadata": {},
     "output_type": "execute_result"
    }
   ],
   "source": [
    "casher('1000000110000001', 25)"
   ]
  },
  {
   "cell_type": "code",
   "execution_count": 3,
   "metadata": {},
   "outputs": [
    {
     "data": {
      "text/plain": [
       "25.0"
      ]
     },
     "execution_count": 3,
     "metadata": {},
     "output_type": "execute_result"
    }
   ],
   "source": [
    "casher('1000100010000001', 25)"
   ]
  },
  {
   "cell_type": "code",
   "execution_count": 4,
   "metadata": {},
   "outputs": [
    {
     "data": {
      "text/plain": [
       "13.0"
      ]
     },
     "execution_count": 4,
     "metadata": {},
     "output_type": "execute_result"
    }
   ],
   "source": [
    "casher('1000999910009999', 25)"
   ]
  },
  {
   "cell_type": "code",
   "execution_count": 5,
   "metadata": {},
   "outputs": [
    {
     "data": {
      "text/plain": [
       "1.0"
      ]
     },
     "execution_count": 5,
     "metadata": {},
     "output_type": "execute_result"
    }
   ],
   "source": [
    "casher('2418380017189999', 25)"
   ]
  },
  {
   "cell_type": "code",
   "execution_count": null,
   "metadata": {},
   "outputs": [],
   "source": []
  },
  {
   "cell_type": "markdown",
   "metadata": {},
   "source": [
    "### Домашнее задание №3 [0 - 0.1 балла]\n",
    "\n",
    "**Условие:**\n",
    "    \n",
    "Сравнить скорость работы и потребление памяти list и deque.\n",
    "\n",
    "**Комментарий:**\n",
    "\n",
    "Количесвто баллов зависит от полноты сравнения."
   ]
  },
  {
   "cell_type": "markdown",
   "metadata": {},
   "source": [
    "Идея такая. Сравним скорость добавления новых элементов к list и deque, а также объем памяти. Параметр step показывает, на сколько увеличивается количество прибавляемых элементов к массиву при каждом новом эксперименте."
   ]
  },
  {
   "cell_type": "code",
   "execution_count": null,
   "metadata": {},
   "outputs": [],
   "source": [
    "import time\n",
    "from matplotlib import pyplot as plt\n",
    "from collections import deque\n",
    "import numpy as np\n",
    "import sys\n",
    "\n",
    "def list_deque_compare(array_max_size, step):\n",
    "    # в эти массивы будем записывать результаты экспериментов\n",
    "    times_array_list = []\n",
    "    times_array_deque = []\n",
    "    size_array_list = []\n",
    "    size_array_deque = []\n",
    "    \n",
    "    # цикл по экспериментам\n",
    "    for i in range(0, array_max_size, step):\n",
    "        time_of_work_list = []\n",
    "        time_of_work_deque = []\n",
    "        size_list = []\n",
    "        size_deque = []\n",
    "        \n",
    "        # в каждом эксперименте делаем усреднение по 10 итерациям\n",
    "        for j in range(10):\n",
    "            list_array = []\n",
    "            deque_array = deque([])\n",
    "\n",
    "            t_start_list = time.time()\n",
    "            list_array.extend([1] * i)       \n",
    "            time_of_work_list.append(time.time() - t_start_list)\n",
    "            size_list.append(sys.getsizeof(list_array))\n",
    "\n",
    "            t_start_deque = time.time()\n",
    "            deque_array.extend([1] * i)       \n",
    "            time_of_work_deque.append(time.time() - t_start_deque)\n",
    "            size_deque.append(sys.getsizeof(deque_array))\n",
    "\n",
    "        times_array_list.append(np.mean(time_of_work_list))\n",
    "        times_array_deque.append(np.mean(time_of_work_deque))\n",
    "        size_array_list.append(np.mean(size_list))\n",
    "        size_array_deque.append(np.mean(size_deque))\n",
    "    \n",
    "    # посмотрим сколько раз deque был быстрее list, сколько раз медленне и \n",
    "    # насколько в среднем он был быстрее/медленне\n",
    "    compare_time = np.array(times_array_deque) - np.array(times_array_list)\n",
    "    mean_difference_time = np.mean(compare_time)\n",
    "    deque_faster = np.sum(compare_time > 0)\n",
    "    deque_slower = np.sum(compare_time < 0)\n",
    "    \n",
    "    # сравним память\n",
    "    compare_memory = np.array(size_array_deque) - np.array(size_array_list)\n",
    "    mean_difference_size = np.mean(compare_memory)\n",
    "    deque_more_memory = np.sum(compare_memory > 0)\n",
    "    deque_less_memory = np.sum(compare_memory < 0)\n",
    "    \n",
    "    return deque_faster, deque_slower, np.round(mean_difference_time, 7), \\\n",
    "                deque_more_memory, deque_less_memory, np.round(mean_difference_size, 7), \\\n",
    "                compare_time, compare_memory\n",
    "\n"
   ]
  },
  {
   "cell_type": "markdown",
   "metadata": {},
   "source": [
    "Посмотрим на результаты эксперимента. Мы прибавляли от нуля до одного миллиона элементов с шагом в 1000 элементов. В 734 случаях deque отработал быстрее (в среднем на 0.00024). В 999 случаях ему потребовалось меньше памяти, чем list (в среднем на ~0.3 мб)."
   ]
  },
  {
   "cell_type": "code",
   "execution_count": 4,
   "metadata": {
    "scrolled": false
   },
   "outputs": [],
   "source": [
    "comparison_1 = list_deque_compare(10**6, 1000)"
   ]
  },
  {
   "cell_type": "code",
   "execution_count": 7,
   "metadata": {},
   "outputs": [
    {
     "data": {
      "text/plain": [
       "(734, 257, 0.0002361, 1, 999, -374335.952)"
      ]
     },
     "execution_count": 7,
     "metadata": {},
     "output_type": "execute_result"
    }
   ],
   "source": [
    "comparison_1[:6]"
   ]
  },
  {
   "cell_type": "markdown",
   "metadata": {},
   "source": [
    "Проведем еще одно испытание в котором будет меньше экспериментов, но будут прибавлятся массивы большего размера. Тут во всех случаях deque оказался быстрее и в 9 случаях из 10 потребовал меньше памяти."
   ]
  },
  {
   "cell_type": "code",
   "execution_count": 12,
   "metadata": {},
   "outputs": [],
   "source": [
    "comparison_2 = list_deque_compare(10**8, 10**7)"
   ]
  },
  {
   "cell_type": "code",
   "execution_count": 13,
   "metadata": {},
   "outputs": [
    {
     "data": {
      "text/plain": [
       "(9, 0, 0.0943403, 1, 9, -33749475.2)"
      ]
     },
     "execution_count": 13,
     "metadata": {},
     "output_type": "execute_result"
    }
   ],
   "source": [
    "comparison_2[:6]"
   ]
  },
  {
   "cell_type": "code",
   "execution_count": null,
   "metadata": {},
   "outputs": [],
   "source": []
  },
  {
   "cell_type": "code",
   "execution_count": null,
   "metadata": {},
   "outputs": [],
   "source": []
  },
  {
   "cell_type": "markdown",
   "metadata": {},
   "source": [
    "### Домашнее задание №4 [0 - 0.1 балла]\n",
    "\n",
    "**Условие:**\n",
    "    \n",
    "Написать аналог permutations и провести сравнение скорости работы и потребления памяти.\n",
    "\n",
    "**Комментарий:**\n",
    "\n",
    "Количесвто баллов зависит от полноты сравнения."
   ]
  }
 ],
 "metadata": {
  "kernelspec": {
   "display_name": "Python 3",
   "language": "python",
   "name": "python3"
  },
  "language_info": {
   "codemirror_mode": {
    "name": "ipython",
    "version": 3
   },
   "file_extension": ".py",
   "mimetype": "text/x-python",
   "name": "python",
   "nbconvert_exporter": "python",
   "pygments_lexer": "ipython3",
   "version": "3.6.5"
  }
 },
 "nbformat": 4,
 "nbformat_minor": 2
}
