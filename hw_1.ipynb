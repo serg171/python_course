{
 "cells": [
  {
   "cell_type": "markdown",
   "metadata": {},
   "source": [
    "# \"Продвинутый Python\". Магистерская программа ВШЭ."
   ]
  },
  {
   "cell_type": "markdown",
   "metadata": {},
   "source": [
    "**Цель курса**: получить предстваление о принципах создания сервисов и реализовать их в собственном ML-проекте.\n",
    "\n",
    "**Ключевые навыки**: ООП, Django, luigi"
   ]
  },
  {
   "cell_type": "markdown",
   "metadata": {},
   "source": [
    "### Отчётность\n",
    "\n",
    "Зачётные баллы будут даваться за:\n",
    "\n",
    "1) __Курсовой проект__ \n",
    "\n",
    "В курсовом проекте необходимо будет сделать сервис, например, для решения какой-нибудь ML-задачи (но не обязательно). Список требований к сервису будет озвучен позже. За проект можно получить до **6 баллов**, причем проект должен сдаваться не за один раз. \n",
    "\n",
    "2) __Контрольные работы, контесты__ (но это не точно)\n",
    "\n",
    "Проводятся на занятиях. Могут принести до **2 баллов**.\n",
    "\n",
    "3) __Домашние задания__\n",
    "\n",
    "Могут принести неопределенное количество баллов.\n",
    "\n",
    "4) __Задания на занятии__\n",
    "\n",
    "Несложные задания за мелкие баллы.\n",
    "\n",
    "Суммарно можно будет **получить больше 10 баллов**. **Баллов хватит на всех :)**\n",
    "\n",
    "Все задачи должны быть оформлены в соответствии с PEP 8."
   ]
  },
  {
   "cell_type": "markdown",
   "metadata": {},
   "source": [
    "## Занятие №0. Core libraries. Разминка."
   ]
  },
  {
   "cell_type": "code",
   "execution_count": 84,
   "metadata": {},
   "outputs": [],
   "source": [
    "import sys"
   ]
  },
  {
   "cell_type": "markdown",
   "metadata": {},
   "source": [
    "**Как получить путь к интерпретатору?**"
   ]
  },
  {
   "cell_type": "code",
   "execution_count": 2,
   "metadata": {},
   "outputs": [],
   "source": [
    "sys.executable;"
   ]
  },
  {
   "cell_type": "markdown",
   "metadata": {},
   "source": [
    "**Как узнать, где ищутся модули для импорта?**"
   ]
  },
  {
   "cell_type": "code",
   "execution_count": 3,
   "metadata": {},
   "outputs": [],
   "source": [
    "sys.path;"
   ]
  },
  {
   "cell_type": "markdown",
   "metadata": {},
   "source": [
    "**Что может помочь написать кросс-платформенный код?**"
   ]
  },
  {
   "cell_type": "code",
   "execution_count": 4,
   "metadata": {},
   "outputs": [
    {
     "data": {
      "text/plain": [
       "'win32'"
      ]
     },
     "execution_count": 4,
     "metadata": {},
     "output_type": "execute_result"
    }
   ],
   "source": [
    "sys.platform"
   ]
  },
  {
   "cell_type": "markdown",
   "metadata": {},
   "source": [
    "**Как перенаправить поток вывода?**"
   ]
  },
  {
   "cell_type": "code",
   "execution_count": 7,
   "metadata": {},
   "outputs": [],
   "source": [
    "with open('log.txt', 'w') as f:\n",
    "    print(2, file=f)"
   ]
  },
  {
   "cell_type": "markdown",
   "metadata": {},
   "source": [
    "### Задача №0"
   ]
  },
  {
   "cell_type": "markdown",
   "metadata": {},
   "source": [
    "Вывести распределение слов в Zen of Python."
   ]
  },
  {
   "cell_type": "code",
   "execution_count": 9,
   "metadata": {
    "scrolled": true
   },
   "outputs": [],
   "source": [
    "from io import StringIO\n",
    "\n",
    "import sys"
   ]
  },
  {
   "cell_type": "markdown",
   "metadata": {},
   "source": [
    "Перенаправим поток вывода в переменную"
   ]
  },
  {
   "cell_type": "code",
   "execution_count": 10,
   "metadata": {},
   "outputs": [],
   "source": [
    "stdout = sys.stdout\n",
    "\n",
    "text_from_this = StringIO()\n",
    "sys.stdout = text_from_this"
   ]
  },
  {
   "cell_type": "markdown",
   "metadata": {},
   "source": [
    "Запишем Zen of Python в переменную `text_from_this` и вернем консольный вывод"
   ]
  },
  {
   "cell_type": "code",
   "execution_count": 11,
   "metadata": {},
   "outputs": [],
   "source": [
    "import this"
   ]
  },
  {
   "cell_type": "code",
   "execution_count": 12,
   "metadata": {},
   "outputs": [],
   "source": [
    "sys.stdout = stdout "
   ]
  },
  {
   "cell_type": "code",
   "execution_count": 15,
   "metadata": {},
   "outputs": [],
   "source": [
    "import re\n",
    "from collections import Counter, OrderedDict"
   ]
  },
  {
   "cell_type": "code",
   "execution_count": 16,
   "metadata": {},
   "outputs": [],
   "source": [
    "mapping_rules = {\n",
    "    \"[-.\\n,*!]\": \" \",\n",
    "    \"n't\": \" not\",\n",
    "    \"'re\": \" are\",\n",
    "    \"it's\": \"it is\",\n",
    "    \"let's\": \"let us\"\n",
    "}"
   ]
  },
  {
   "cell_type": "markdown",
   "metadata": {},
   "source": [
    "Подумайте, в чем непотимальность следующего блока? Как сделать оптимальным?"
   ]
  },
  {
   "cell_type": "code",
   "execution_count": 23,
   "metadata": {},
   "outputs": [],
   "source": [
    "zen_string = text_from_this.getvalue().lower()\n",
    "\n",
    "for rule in mapping_rules:\n",
    "    zen_string = re.sub(rule, mapping_rules[rule], zen_string)"
   ]
  },
  {
   "cell_type": "code",
   "execution_count": 28,
   "metadata": {
    "collapsed": true
   },
   "outputs": [
    {
     "data": {
      "text/plain": [
       "[('is', 11),\n",
       " ('better', 8),\n",
       " ('than', 8),\n",
       " ('the', 6),\n",
       " ('to', 5),\n",
       " ('of', 3),\n",
       " ('are', 3),\n",
       " ('although', 3),\n",
       " ('never', 3),\n",
       " ('be', 3),\n",
       " ('one', 3),\n",
       " ('it', 3),\n",
       " ('idea', 3),\n",
       " ('complex', 2),\n",
       " ('special', 2),\n",
       " ('not', 2),\n",
       " ('should', 2),\n",
       " ('unless', 2),\n",
       " ('obvious', 2),\n",
       " ('way', 2),\n",
       " ('do', 2),\n",
       " ('may', 2),\n",
       " ('now', 2),\n",
       " ('if', 2),\n",
       " ('implementation', 2),\n",
       " ('explain', 2),\n",
       " ('a', 2),\n",
       " ('zen', 1),\n",
       " ('python', 1),\n",
       " ('by', 1),\n",
       " ('tim', 1),\n",
       " ('peters', 1),\n",
       " ('beautiful', 1),\n",
       " ('ugly', 1),\n",
       " ('explicit', 1),\n",
       " ('implicit', 1),\n",
       " ('simple', 1),\n",
       " ('complicated', 1),\n",
       " ('flat', 1),\n",
       " ('nested', 1),\n",
       " ('sparse', 1),\n",
       " ('dense', 1),\n",
       " ('readability', 1),\n",
       " ('counts', 1),\n",
       " ('cases', 1),\n",
       " ('enough', 1),\n",
       " ('break', 1),\n",
       " ('rules', 1),\n",
       " ('practicality', 1),\n",
       " ('beats', 1),\n",
       " ('purity', 1),\n",
       " ('errors', 1),\n",
       " ('pass', 1),\n",
       " ('silently', 1),\n",
       " ('explicitly', 1),\n",
       " ('silenced', 1),\n",
       " ('in', 1),\n",
       " ('face', 1),\n",
       " ('ambiguity', 1),\n",
       " ('refuse', 1),\n",
       " ('temptation', 1),\n",
       " ('guess', 1),\n",
       " ('there', 1),\n",
       " ('and', 1),\n",
       " ('preferably', 1),\n",
       " ('only', 1),\n",
       " ('that', 1),\n",
       " ('at', 1),\n",
       " ('first', 1),\n",
       " ('you', 1),\n",
       " ('dutch', 1),\n",
       " ('often', 1),\n",
       " ('right', 1),\n",
       " ('hard', 1),\n",
       " ('bad', 1),\n",
       " ('easy', 1),\n",
       " ('good', 1),\n",
       " ('namespaces', 1),\n",
       " ('honking', 1),\n",
       " ('great', 1),\n",
       " ('let', 1),\n",
       " ('us', 1),\n",
       " ('more', 1),\n",
       " ('those', 1)]"
      ]
     },
     "execution_count": 28,
     "metadata": {},
     "output_type": "execute_result"
    }
   ],
   "source": [
    "words_distribution = Counter(zen_string.split())\n",
    "words_distribution.most_common()"
   ]
  },
  {
   "cell_type": "markdown",
   "metadata": {},
   "source": [
    "### Домашнее задание №0 [0.2 балла]"
   ]
  },
  {
   "cell_type": "markdown",
   "metadata": {},
   "source": [
    "**Условие**:\n",
    "\n",
    "Функция `delete_zeros_from_array` принимает на вход массив целых чисел из промежутка [0; 5] и удалает из него все _нули_. Алгоритм должен иметь сложность `O(N)`, где N - длина массива, и использовать `O(1)` дополнительной памяти.\n",
    "\n",
    "Построить **графики** зависимости времени работы алгоритма от количества элементов в нем. \n",
    "\n",
    "**Примечания**:\n",
    "\n",
    "1) Для наглядности лучше генерить массивы, в которых количество удаляемых элементов **больше трети** от всех элементов.\n",
    "\n",
    "2) В такой постановке можно проверить, как разработчик выбирает имена переменных и думает ли о функции глобально. Например, следующим вопросом было бы \"А что если хотим удалять единицы?\""
   ]
  },
  {
   "cell_type": "code",
   "execution_count": 22,
   "metadata": {},
   "outputs": [],
   "source": [
    "from functools import partial\n",
    "\n",
    "def remove_elements_from_array(array, element):\n",
    "    index = None\n",
    "    elements_to_delete_number = 0\n",
    "\n",
    "    for i in range(len(array)):\n",
    "        if array[i] == element:\n",
    "            index = i\n",
    "            break  \n",
    "  \n",
    "    if index is None:\n",
    "        return array\n",
    "    \n",
    "    \n",
    "    for j in range(index + 1, len(array)):\n",
    "        if array[j] != element:\n",
    "            array[index], array[j] = array[j], element\n",
    "            if elements_to_delete_number != 0:  \n",
    "                index = j - elements_to_delete_number\n",
    "            else:\n",
    "                index = j\n",
    "\n",
    "        elif array[j] == element:        \n",
    "            elements_to_delete_number += 1\n",
    "    \n",
    "    for j in range(elements_to_delete_number + 1):\n",
    "        array.pop()\n",
    "\n",
    "    return array\n",
    "\n",
    "\n",
    "delete_zeros_from_array = partial(remove_elements_from_array, element=0)\n",
    "delete_ones_from_array = partial(remove_elements_from_array, element=1)"
   ]
  },
  {
   "cell_type": "code",
   "execution_count": 23,
   "metadata": {
    "scrolled": true
   },
   "outputs": [],
   "source": [
    "a = [0, 0, 0, 0, 1, 5, 0, 7, 0, 2, 3, 0, 0, 20, 11, 0, 0]\n",
    "b = [1, 2, 3, 4, 5, 6, 7]"
   ]
  },
  {
   "cell_type": "code",
   "execution_count": 24,
   "metadata": {
    "scrolled": false
   },
   "outputs": [
    {
     "data": {
      "text/plain": [
       "[1, 5, 7, 2, 3, 20, 11]"
      ]
     },
     "execution_count": 24,
     "metadata": {},
     "output_type": "execute_result"
    }
   ],
   "source": [
    "delete_zeros_from_array(a)"
   ]
  },
  {
   "cell_type": "code",
   "execution_count": 25,
   "metadata": {},
   "outputs": [
    {
     "data": {
      "text/plain": [
       "[1, 2, 3, 4, 5, 6, 7]"
      ]
     },
     "execution_count": 25,
     "metadata": {},
     "output_type": "execute_result"
    }
   ],
   "source": [
    "delete_zeros_from_array(b)"
   ]
  },
  {
   "cell_type": "markdown",
   "metadata": {},
   "source": [
    "Проверка, что при удалении единичек из массива, состоящего из нулей и единиц, остаются только нули."
   ]
  },
  {
   "cell_type": "code",
   "execution_count": 26,
   "metadata": {},
   "outputs": [
    {
     "data": {
      "text/plain": [
       "0"
      ]
     },
     "execution_count": 26,
     "metadata": {},
     "output_type": "execute_result"
    }
   ],
   "source": [
    "import numpy as np\n",
    "sums_array = []\n",
    "for i in range(1, 1000):\n",
    "    array = list(np.random.randint(0, 2, size = i))\n",
    "    sums_array.append(np.sum(delete_ones_from_array(array)))\n",
    "\n",
    "sum(sums_array)"
   ]
  },
  {
   "cell_type": "code",
   "execution_count": 27,
   "metadata": {},
   "outputs": [
    {
     "data": {
      "text/plain": [
       "<Figure size 1200x1000 with 1 Axes>"
      ]
     },
     "metadata": {},
     "output_type": "display_data"
    }
   ],
   "source": [
    "import time\n",
    "from matplotlib import pyplot as plt\n",
    "import numpy as np\n",
    "\n",
    "times_array = []\n",
    "for i in range(1, 1000):\n",
    "    time_of_work = []\n",
    "    for j in range(1000):\n",
    "        t_start = time.time()\n",
    "        array = list(np.random.binomial(1, 0.65, size = i))\n",
    "        delete_zeros_from_array(array)\n",
    "        time_of_work.append(time.time() - t_start)\n",
    "    times_array.append(np.mean(time_of_work))"
   ]
  },
  {
   "cell_type": "code",
   "execution_count": 28,
   "metadata": {},
   "outputs": [
    {
     "data": {
      "image/png": "[encoded data removed]",
      "text/plain": [
       "<Figure size 864x720 with 1 Axes>"
      ]
     },
     "metadata": {},
     "output_type": "display_data"
    }
   ],
   "source": [
    "plt.figure(figsize=(12, 10))\n",
    "plt.plot(times_array)\n",
    "plt.show()"
   ]
  },
  {
   "cell_type": "markdown",
   "metadata": {},
   "source": [
    "Попробовал увеличить количество усреднений и уменьшить количество нулей в создаваемых массивах - не помогло сгладить пики. Возможно пики связаны с тем, что иногда создаются массивы, в которых больше нулей в начале массива и алгоритму требуется больше времени, чтобы передвинуть их все в конец."
   ]
  },
  {
   "cell_type": "markdown",
   "metadata": {},
   "source": [
    "### Домашнее задание №1 [0.05 балла]\n",
    "\n",
    "**Условие**:\n",
    "\n",
    "Написать функцию (-и), которая принимает на вход 3 комплексных числа и выводит минимальное из них по модулю без использования функций min, max, sort и т.д.\n",
    "\n",
    "\n",
    "**Комментарии**:\n",
    "\n",
    "1) В процессе сдачи задания, можно будет получить дополнительные баллы\n",
    "\n",
    "2) Код должен быть пригоден для промышленного использования"
   ]
  },
  {
   "cell_type": "code",
   "execution_count": 7,
   "metadata": {},
   "outputs": [],
   "source": [
    "a = complex(1, 2)\n",
    "b = complex(3, 4)\n",
    "c = complex(10, 12)\n",
    "d = complex(-2, 4)"
   ]
  },
  {
   "cell_type": "code",
   "execution_count": 8,
   "metadata": {},
   "outputs": [],
   "source": [
    "def find_min(array):\n",
    "    min_element = array[0]\n",
    "    for element in array:\n",
    "        if element < min_element:\n",
    "            min_element = element\n",
    "    return min_element\n",
    "\n",
    "\n",
    "def complex_min(complex_array):\n",
    "    length_list = []\n",
    "    for number in complex_array:\n",
    "        length_list.append(pow(number.imag**2 + number.real**2, 0.5))\n",
    "    \n",
    "    numbers_dic = dict(zip(length_list, complex_array))\n",
    "    result = numbers_dic[find_min(length_list)]\n",
    "  \n",
    "    return result"
   ]
  },
  {
   "cell_type": "code",
   "execution_count": 9,
   "metadata": {
    "scrolled": true
   },
   "outputs": [
    {
     "data": {
      "text/plain": [
       "(1+2j)"
      ]
     },
     "execution_count": 9,
     "metadata": {},
     "output_type": "execute_result"
    }
   ],
   "source": [
    "complex_min([a, b, c, d])"
   ]
  },
  {
   "cell_type": "markdown",
   "metadata": {},
   "source": [
    "Проверка на случай вещественных чисел"
   ]
  },
  {
   "cell_type": "code",
   "execution_count": 44,
   "metadata": {},
   "outputs": [],
   "source": [
    "a = 0\n",
    "b = 0.2\n",
    "c = -5\n",
    "d = 12"
   ]
  },
  {
   "cell_type": "code",
   "execution_count": 45,
   "metadata": {
    "scrolled": true
   },
   "outputs": [
    {
     "data": {
      "text/plain": [
       "0"
      ]
     },
     "execution_count": 45,
     "metadata": {},
     "output_type": "execute_result"
    }
   ],
   "source": [
    "complex_min([a, b, c, d])"
   ]
  },
  {
   "cell_type": "markdown",
   "metadata": {},
   "source": [
    "### Домашнее задание №2 [0.18 балла]"
   ]
  },
  {
   "cell_type": "markdown",
   "metadata": {},
   "source": [
    "**Условие**:\n",
    "\n",
    "Вы - банкомат, который работает по следующей схеме: считывает номер вставленной в него карты, парсит его на 4 равные части и генерирует 4 числа Фибоначчи с номерами, соответствущими распаршенным частям. Затем генерирует числа из всевозможных перестановок полученных чисел Фибоначчи (конкатенацией).\n",
    "\n",
    "Для каждого числа из полученного набора банкомат находит НОД с введеным пользователем паролем и возвращает медиану из полученных НОДов. \n",
    "\n",
    "**Комментарии**:\n",
    "\n",
    "1) Поток клиентов большой, операции повторяющиеся - хорошо бы, чтобы со временем банкомат отвечал быстрее на запросы.\n",
    "\n",
    "2) За неполное решение также дается часть баллов.\n",
    "\n",
    "**Ключевые слова**: lru_cache, permutations, алгоритм Евклида"
   ]
  },
  {
   "cell_type": "code",
   "execution_count": 11,
   "metadata": {},
   "outputs": [],
   "source": [
    "import numpy as np\n",
    "from math import gcd\n",
    "from functools import lru_cache, reduce\n",
    "from itertools import permutations\n",
    "import sys\n",
    "sys.setrecursionlimit(40000)\n",
    "\n",
    "@lru_cache(maxsize=None)\n",
    "def F(n):\n",
    "    if n < 2:\n",
    "        return n\n",
    "    return F(n-1) + F(n-2)\n",
    "\n",
    "\n",
    "def compute_gcd(x, y):\n",
    "    if y > x:\n",
    "        return compute_gcd(y, x)\n",
    "    \n",
    "    while y != 0:\n",
    "        x, y = y, x % y\n",
    "\n",
    "    return abs(x)\n",
    "\n",
    "# флаг written_gcd показывает, какой gcd используется: питоновский или тот, что выше (Алгоритм Евклида)\n",
    "def casher(card_number, card_password, written_gcd=False):\n",
    "    card_password = int(card_password)\n",
    "    if card_password <= 0:\n",
    "        raise Exception('Неверный формат ввода пароля')\n",
    "    \n",
    "    if type(card_number) == int:\n",
    "        if card_number < 0:\n",
    "            raise Exception('Неверный формат ввода номера карты')\n",
    "        \n",
    "        card_number = str(card_number)\n",
    "        \n",
    "    if len(card_number) != 16:\n",
    "        raise Exception('Неверный формат ввода номера карты')\n",
    "        \n",
    "    card_split = []\n",
    "    for i in [0, 4, 8, 12]:\n",
    "        card_split.append(int(card_number[i:i+4]))\n",
    "    \n",
    "    fib_numbers = [F(num) for num in card_split]\n",
    "    \n",
    "    gcd_list = []\n",
    "    for permutation in permutations(fib_numbers):\n",
    "        concat_of_numbers = int(reduce(lambda x, y: str(x) + str(y), permutation))\n",
    "        if written_gcd:\n",
    "            gcd_list.append(compute_gcd(concat_of_numbers, card_password))\n",
    "        else:\n",
    "            gcd_list.append(gcd(concat_of_numbers, card_password))\n",
    "    \n",
    "    return np.median(gcd_list)"
   ]
  },
  {
   "cell_type": "code",
   "execution_count": 12,
   "metadata": {},
   "outputs": [
    {
     "data": {
      "text/plain": [
       "13.0"
      ]
     },
     "execution_count": 12,
     "metadata": {},
     "output_type": "execute_result"
    }
   ],
   "source": [
    "casher('1000000110000001', 25, written_gcd=True)"
   ]
  },
  {
   "cell_type": "code",
   "execution_count": 13,
   "metadata": {},
   "outputs": [
    {
     "data": {
      "text/plain": [
       "13.0"
      ]
     },
     "execution_count": 13,
     "metadata": {},
     "output_type": "execute_result"
    }
   ],
   "source": [
    "casher('1000000110000001', 25, written_gcd=False)"
   ]
  },
  {
   "cell_type": "code",
   "execution_count": 14,
   "metadata": {},
   "outputs": [
    {
     "data": {
      "text/plain": [
       "25.0"
      ]
     },
     "execution_count": 14,
     "metadata": {},
     "output_type": "execute_result"
    }
   ],
   "source": [
    "casher('1000100010000001', 25)"
   ]
  },
  {
   "cell_type": "code",
   "execution_count": 16,
   "metadata": {},
   "outputs": [
    {
     "data": {
      "text/plain": [
       "13.0"
      ]
     },
     "execution_count": 16,
     "metadata": {},
     "output_type": "execute_result"
    }
   ],
   "source": [
    "casher('1000999910009999', 25)"
   ]
  },
  {
   "cell_type": "code",
   "execution_count": 17,
   "metadata": {},
   "outputs": [
    {
     "data": {
      "text/plain": [
       "1.0"
      ]
     },
     "execution_count": 17,
     "metadata": {},
     "output_type": "execute_result"
    }
   ],
   "source": [
    "casher('2418380017189999', 25)"
   ]
  },
  {
   "cell_type": "code",
   "execution_count": 18,
   "metadata": {},
   "outputs": [
    {
     "ename": "Exception",
     "evalue": "Неверный формат ввода пароля",
     "output_type": "error",
     "traceback": [
      "\u001b[0;31m---------------------------------------------------------------------------\u001b[0m",
      "\u001b[0;31mException\u001b[0m                                 Traceback (most recent call last)",
      "\u001b[0;32m<ipython-input-18-5bb645e56410>\u001b[0m in \u001b[0;36m<module>\u001b[0;34m()\u001b[0m\n\u001b[0;32m----> 1\u001b[0;31m \u001b[0mcasher\u001b[0m\u001b[0;34m(\u001b[0m\u001b[0;34m'123556'\u001b[0m\u001b[0;34m,\u001b[0m \u001b[0;34m-\u001b[0m\u001b[0;36m25\u001b[0m\u001b[0;34m)\u001b[0m\u001b[0;34m\u001b[0m\u001b[0m\n\u001b[0m",
      "\u001b[0;32m<ipython-input-11-316b01d37f1b>\u001b[0m in \u001b[0;36mcasher\u001b[0;34m(card_number, card_password, written_gcd)\u001b[0m\n\u001b[1;32m     26\u001b[0m     \u001b[0mcard_password\u001b[0m \u001b[0;34m=\u001b[0m \u001b[0mint\u001b[0m\u001b[0;34m(\u001b[0m\u001b[0mcard_password\u001b[0m\u001b[0;34m)\u001b[0m\u001b[0;34m\u001b[0m\u001b[0m\n\u001b[1;32m     27\u001b[0m     \u001b[0;32mif\u001b[0m \u001b[0mcard_password\u001b[0m \u001b[0;34m<=\u001b[0m \u001b[0;36m0\u001b[0m\u001b[0;34m:\u001b[0m\u001b[0;34m\u001b[0m\u001b[0m\n\u001b[0;32m---> 28\u001b[0;31m         \u001b[0;32mraise\u001b[0m \u001b[0mException\u001b[0m\u001b[0;34m(\u001b[0m\u001b[0;34m'Неверный формат ввода пароля'\u001b[0m\u001b[0;34m)\u001b[0m\u001b[0;34m\u001b[0m\u001b[0m\n\u001b[0m\u001b[1;32m     29\u001b[0m \u001b[0;34m\u001b[0m\u001b[0m\n\u001b[1;32m     30\u001b[0m     \u001b[0;32mif\u001b[0m \u001b[0mtype\u001b[0m\u001b[0;34m(\u001b[0m\u001b[0mcard_number\u001b[0m\u001b[0;34m)\u001b[0m \u001b[0;34m==\u001b[0m \u001b[0mint\u001b[0m\u001b[0;34m:\u001b[0m\u001b[0;34m\u001b[0m\u001b[0m\n",
      "\u001b[0;31mException\u001b[0m: Неверный формат ввода пароля"
     ]
    }
   ],
   "source": [
    "casher('123556', -25)"
   ]
  },
  {
   "cell_type": "code",
   "execution_count": 21,
   "metadata": {},
   "outputs": [
    {
     "ename": "Exception",
     "evalue": "Неверный формат ввода номера карты",
     "output_type": "error",
     "traceback": [
      "\u001b[0;31m---------------------------------------------------------------------------\u001b[0m",
      "\u001b[0;31mException\u001b[0m                                 Traceback (most recent call last)",
      "\u001b[0;32m<ipython-input-21-59b5e06a68c1>\u001b[0m in \u001b[0;36m<module>\u001b[0;34m()\u001b[0m\n\u001b[0;32m----> 1\u001b[0;31m \u001b[0mcasher\u001b[0m\u001b[0;34m(\u001b[0m\u001b[0;34m'123556'\u001b[0m\u001b[0;34m,\u001b[0m \u001b[0;36m25\u001b[0m\u001b[0;34m)\u001b[0m\u001b[0;34m\u001b[0m\u001b[0m\n\u001b[0m",
      "\u001b[0;32m<ipython-input-11-316b01d37f1b>\u001b[0m in \u001b[0;36mcasher\u001b[0;34m(card_number, card_password, written_gcd)\u001b[0m\n\u001b[1;32m     35\u001b[0m \u001b[0;34m\u001b[0m\u001b[0m\n\u001b[1;32m     36\u001b[0m     \u001b[0;32mif\u001b[0m \u001b[0mlen\u001b[0m\u001b[0;34m(\u001b[0m\u001b[0mcard_number\u001b[0m\u001b[0;34m)\u001b[0m \u001b[0;34m!=\u001b[0m \u001b[0;36m16\u001b[0m\u001b[0;34m:\u001b[0m\u001b[0;34m\u001b[0m\u001b[0m\n\u001b[0;32m---> 37\u001b[0;31m         \u001b[0;32mraise\u001b[0m \u001b[0mException\u001b[0m\u001b[0;34m(\u001b[0m\u001b[0;34m'Неверный формат ввода номера карты'\u001b[0m\u001b[0;34m)\u001b[0m\u001b[0;34m\u001b[0m\u001b[0m\n\u001b[0m\u001b[1;32m     38\u001b[0m \u001b[0;34m\u001b[0m\u001b[0m\n\u001b[1;32m     39\u001b[0m     \u001b[0mcard_split\u001b[0m \u001b[0;34m=\u001b[0m \u001b[0;34m[\u001b[0m\u001b[0;34m]\u001b[0m\u001b[0;34m\u001b[0m\u001b[0m\n",
      "\u001b[0;31mException\u001b[0m: Неверный формат ввода номера карты"
     ]
    }
   ],
   "source": [
    "casher('123556', 25)"
   ]
  },
  {
   "cell_type": "code",
   "execution_count": 20,
   "metadata": {},
   "outputs": [
    {
     "ename": "Exception",
     "evalue": "Неверный формат ввода номера карты",
     "output_type": "error",
     "traceback": [
      "\u001b[0;31m---------------------------------------------------------------------------\u001b[0m",
      "\u001b[0;31mException\u001b[0m                                 Traceback (most recent call last)",
      "\u001b[0;32m<ipython-input-20-7181eb52f3f2>\u001b[0m in \u001b[0;36m<module>\u001b[0;34m()\u001b[0m\n\u001b[0;32m----> 1\u001b[0;31m \u001b[0mcasher\u001b[0m\u001b[0;34m(\u001b[0m\u001b[0;34m-\u001b[0m\u001b[0;36m2\u001b[0m\u001b[0;34m,\u001b[0m \u001b[0;36m25\u001b[0m\u001b[0;34m)\u001b[0m\u001b[0;34m\u001b[0m\u001b[0m\n\u001b[0m",
      "\u001b[0;32m<ipython-input-11-316b01d37f1b>\u001b[0m in \u001b[0;36mcasher\u001b[0;34m(card_number, card_password, written_gcd)\u001b[0m\n\u001b[1;32m     30\u001b[0m     \u001b[0;32mif\u001b[0m \u001b[0mtype\u001b[0m\u001b[0;34m(\u001b[0m\u001b[0mcard_number\u001b[0m\u001b[0;34m)\u001b[0m \u001b[0;34m==\u001b[0m \u001b[0mint\u001b[0m\u001b[0;34m:\u001b[0m\u001b[0;34m\u001b[0m\u001b[0m\n\u001b[1;32m     31\u001b[0m         \u001b[0;32mif\u001b[0m \u001b[0mcard_number\u001b[0m \u001b[0;34m<\u001b[0m \u001b[0;36m0\u001b[0m\u001b[0;34m:\u001b[0m\u001b[0;34m\u001b[0m\u001b[0m\n\u001b[0;32m---> 32\u001b[0;31m             \u001b[0;32mraise\u001b[0m \u001b[0mException\u001b[0m\u001b[0;34m(\u001b[0m\u001b[0;34m'Неверный формат ввода номера карты'\u001b[0m\u001b[0;34m)\u001b[0m\u001b[0;34m\u001b[0m\u001b[0m\n\u001b[0m\u001b[1;32m     33\u001b[0m \u001b[0;34m\u001b[0m\u001b[0m\n\u001b[1;32m     34\u001b[0m         \u001b[0mcard_number\u001b[0m \u001b[0;34m=\u001b[0m \u001b[0mstr\u001b[0m\u001b[0;34m(\u001b[0m\u001b[0mcard_number\u001b[0m\u001b[0;34m)\u001b[0m\u001b[0;34m\u001b[0m\u001b[0m\n",
      "\u001b[0;31mException\u001b[0m: Неверный формат ввода номера карты"
     ]
    }
   ],
   "source": [
    "casher(-2, 25)"
   ]
  },
  {
   "cell_type": "markdown",
   "metadata": {},
   "source": [
    "### Домашнее задание №3 [0 - 0.1 балла]\n",
    "\n",
    "**Условие:**\n",
    "    \n",
    "Сравнить скорость работы и потребление памяти list и deque.\n",
    "\n",
    "**Комментарий:**\n",
    "\n",
    "Количесвто баллов зависит от полноты сравнения."
   ]
  },
  {
   "cell_type": "markdown",
   "metadata": {},
   "source": [
    "Идея такая. Сравним скорость добавления новых элементов к list и deque, а также объем памяти. Параметр step показывает, на сколько увеличивается количество прибавляемых элементов к массиву при каждом новом эксперименте."
   ]
  },
  {
   "cell_type": "code",
   "execution_count": 50,
   "metadata": {},
   "outputs": [],
   "source": [
    "import time\n",
    "from matplotlib import pyplot as plt\n",
    "from collections import deque\n",
    "import numpy as np\n",
    "import sys\n",
    "\n",
    "def list_deque_compare(array_max_size, step):\n",
    "    # в эти массивы будем записывать результаты экспериментов\n",
    "    times_array_list = []\n",
    "    times_array_deque = []\n",
    "    size_array_list = []\n",
    "    size_array_deque = []\n",
    "    array_for_plots_time = []\n",
    "    array_for_plots_memory = []\n",
    "    \n",
    "    \n",
    "    # цикл по экспериментам\n",
    "    for i in range(0, array_max_size, step):\n",
    "        time_of_work_list = []\n",
    "        time_of_work_deque = []\n",
    "        size_list = []\n",
    "        size_deque = []\n",
    "        \n",
    "        # в каждом эксперименте делаем усреднение по 500 итерациям\n",
    "        for j in range(500):\n",
    "            list_array = []\n",
    "            deque_array = deque([])\n",
    "\n",
    "            t_start_list = time.time()\n",
    "            list_array.extend([1] * i)       \n",
    "            time_of_work_list.append(time.time() - t_start_list)\n",
    "            size_list.append(sys.getsizeof(list_array))\n",
    "\n",
    "            t_start_deque = time.time()\n",
    "            deque_array.extend([1] * i)       \n",
    "            time_of_work_deque.append(time.time() - t_start_deque)\n",
    "            size_deque.append(sys.getsizeof(deque_array))\n",
    "\n",
    "        times_array_list.append(np.mean(time_of_work_list))\n",
    "        times_array_deque.append(np.mean(time_of_work_deque))\n",
    "        size_array_list.append(np.mean(size_list))\n",
    "        size_array_deque.append(np.mean(size_deque))\n",
    "        array_for_plots_time.append((time_of_work_deque, time_of_work_list))\n",
    "        array_for_plots_memory.append((size_deque, size_list))\n",
    "\n",
    "    \n",
    "    # посмотрим сколько раз deque был быстрее list, сколько раз медленне и \n",
    "    # насколько в среднем он был быстрее/медленне\n",
    "    compare_time = np.array(times_array_deque) - np.array(times_array_list)\n",
    "    mean_difference_time = np.mean(compare_time)\n",
    "    deque_faster = np.sum(compare_time < 0)\n",
    "    deque_slower = np.sum(compare_time > 0)\n",
    "    \n",
    "    # сравним память\n",
    "    compare_memory = np.array(size_array_deque) - np.array(size_array_list)\n",
    "    mean_difference_size = np.mean(compare_memory)\n",
    "    deque_more_memory = np.sum(compare_memory > 0)\n",
    "    deque_less_memory = np.sum(compare_memory < 0)\n",
    "    \n",
    "    return deque_faster, deque_slower, np.round(mean_difference_time, 7), \\\n",
    "            deque_less_memory, deque_more_memory, np.round(mean_difference_size, 7), \\\n",
    "                compare_time, compare_memory, array_for_plots_time, array_for_plots_memory\n",
    "\n"
   ]
  },
  {
   "cell_type": "markdown",
   "metadata": {},
   "source": [
    "Посмотрим на результаты эксперимента. Мы прибавляли от нуля до одного миллиона элементов с шагом в 100 000 элементов. Во всех случаях deque отработал медленне (в среднем на 0.0011501 c). В 9 случаях ему потребовалось меньше памяти, чем list (в среднем на ~0.3 мб)."
   ]
  },
  {
   "cell_type": "code",
   "execution_count": 58,
   "metadata": {},
   "outputs": [],
   "source": [
    "comparison_1 = list_deque_compare(10**6, 10**5)"
   ]
  },
  {
   "cell_type": "code",
   "execution_count": 60,
   "metadata": {
    "scrolled": true
   },
   "outputs": [
    {
     "data": {
      "text/plain": [
       "(0, 10, 0.0011501, 9, 1, -337107.2)"
      ]
     },
     "execution_count": 60,
     "metadata": {},
     "output_type": "execute_result"
    }
   ],
   "source": [
    "comparison_1[:6]"
   ]
  },
  {
   "cell_type": "markdown",
   "metadata": {},
   "source": [
    "Проведем еще одно испытание в котором будут прибавлятся массивы меньшего размера."
   ]
  },
  {
   "cell_type": "code",
   "execution_count": 44,
   "metadata": {},
   "outputs": [],
   "source": [
    "comparison_2 = list_deque_compare(10**4, 1000)"
   ]
  },
  {
   "cell_type": "markdown",
   "metadata": {},
   "source": [
    "Здесь получились аналогичные результаты. В 10 случаях из 10 deque работает медленее (в среднем на 9.4e-06 с), но и памяти занимает меньше в 9 случаях из 10 (в среднем на 0.0003 мб)."
   ]
  },
  {
   "cell_type": "code",
   "execution_count": 45,
   "metadata": {
    "scrolled": true
   },
   "outputs": [
    {
     "data": {
      "text/plain": [
       "(0, 10, 9.4e-06, 9, 1, -3068.0)"
      ]
     },
     "execution_count": 45,
     "metadata": {},
     "output_type": "execute_result"
    }
   ],
   "source": [
    "comparison_2[:6]"
   ]
  },
  {
   "cell_type": "code",
   "execution_count": 53,
   "metadata": {},
   "outputs": [
    {
     "name": "stdout",
     "output_type": "stream",
     "text": [
      "25, 50 и 75 персентили времени работы у deque [5.07831573e-05 5.10215759e-05 5.10215759e-05]\n",
      "25, 50 и 75 персентили времени работы у list [3.19480896e-05 3.21865082e-05 3.29017639e-05]\n"
     ]
    }
   ],
   "source": [
    "print('25, 50 и 75 персентили времени работы у deque', np.quantile(comparison_2[-2][9][0], [0.25, 0.5, 0.75]))\n",
    "print('25, 50 и 75 персентили времени работы у list', np.quantile(comparison_2[-2][9][1], [0.25, 0.5, 0.75]))"
   ]
  },
  {
   "cell_type": "code",
   "execution_count": 54,
   "metadata": {},
   "outputs": [
    {
     "data": {
      "image/png": "[encoded data removed]",
      "text/plain": [
       "<Figure size 1080x360 with 2 Axes>"
      ]
     },
     "metadata": {},
     "output_type": "display_data"
    }
   ],
   "source": [
    "plt.figure(figsize=(15,5))\n",
    "plt.subplot(1, 2, 1)\n",
    "plt.hist(comparison_2[-2][9][0])\n",
    "plt.title('Распределение времени работы операции extend у deque')\n",
    "plt.subplot(1, 2, 2)\n",
    "plt.hist(comparison_2[-2][9][1])\n",
    "plt.title('Распределение времени работы операции extend у list')\n",
    "plt.show()"
   ]
  },
  {
   "cell_type": "code",
   "execution_count": 56,
   "metadata": {},
   "outputs": [
    {
     "name": "stdout",
     "output_type": "stream",
     "text": [
      "25, 50 и 75 персентили памяти у deque [74552. 74552. 74552.]\n",
      "25, 50 и 75 персентили памяти у list [81112. 81112. 81112.]\n"
     ]
    }
   ],
   "source": [
    "print('25, 50 и 75 персентили памяти у deque', np.quantile(comparison_2[-1][9][0], [0.25, 0.5, 0.75]))\n",
    "print('25, 50 и 75 персентили памяти у list', np.quantile(comparison_2[-1][9][1], [0.25, 0.5, 0.75]))"
   ]
  },
  {
   "cell_type": "markdown",
   "metadata": {},
   "source": [
    " "
   ]
  },
  {
   "cell_type": "markdown",
   "metadata": {},
   "source": [
    "Теперь сравним как работает pop. Здесь будем замерять только время, т.к. память мы измеряли в предыдущей функции."
   ]
  },
  {
   "cell_type": "code",
   "execution_count": 31,
   "metadata": {},
   "outputs": [],
   "source": [
    "import time\n",
    "from matplotlib import pyplot as plt\n",
    "from collections import deque\n",
    "import numpy as np\n",
    "import sys\n",
    "\n",
    "def compare_list_deque_pop(array_max_size, step):\n",
    "    # в эти массивы будем записывать результаты экспериментов\n",
    "    times_array_list = []\n",
    "    times_array_deque = []\n",
    "    list_experiments_for_plots = []\n",
    "    deque_experiments_for_plots = []\n",
    "    \n",
    "    # цикл по экспериментам\n",
    "    for i in range(0, array_max_size, step):\n",
    "        time_of_work_list = []\n",
    "        time_of_work_deque = []\n",
    "        \n",
    "        # в каждом эксперименте делаем усреднение по 500 итерациям\n",
    "        for j in range(500):\n",
    "            list_array = [1] * (array_max_size + step)\n",
    "            deque_array = deque([1] * (array_max_size + step))\n",
    "            t_start_list = time.time()\n",
    "            for k in range(i):\n",
    "                list_array.pop()       \n",
    "            time_of_work_list.append(time.time() - t_start_list)\n",
    "\n",
    "            t_start_deque = time.time()\n",
    "            for k in range(i):\n",
    "                deque_array.pop()           \n",
    "            time_of_work_deque.append(time.time() - t_start_deque)\n",
    "\n",
    "        times_array_list.append(np.mean(time_of_work_list))\n",
    "        times_array_deque.append(np.mean(time_of_work_deque))\n",
    "        list_experiments_for_plots.append(time_of_work_list)\n",
    "        deque_experiments_for_plots.append(time_of_work_deque)\n",
    "    \n",
    "    # посмотрим сколько раз deque был быстрее list, сколько раз медленне и \n",
    "    # насколько в среднем он был быстрее/медленне\n",
    "    compare_time = np.array(times_array_deque) - np.array(times_array_list)\n",
    "    mean_difference_time = np.mean(compare_time)\n",
    "    deque_faster = np.sum(compare_time < 0)\n",
    "    deque_slower = np.sum(compare_time > 0)\n",
    "    \n",
    "    return deque_faster, deque_slower, np.round(mean_difference_time, 7), compare_time, \\\n",
    "        list_experiments_for_plots, deque_experiments_for_plots"
   ]
  },
  {
   "cell_type": "code",
   "execution_count": 32,
   "metadata": {},
   "outputs": [],
   "source": [
    "comparison_3 = compare_list_deque_pop(10**4, 1000)"
   ]
  },
  {
   "cell_type": "markdown",
   "metadata": {},
   "source": [
    "В десяти случаях из десяти deque оказался быстрее (в среднем на -7.81e-05 с)"
   ]
  },
  {
   "cell_type": "code",
   "execution_count": 33,
   "metadata": {},
   "outputs": [
    {
     "data": {
      "text/plain": [
       "(10, 0, -7.81e-05)"
      ]
     },
     "execution_count": 33,
     "metadata": {},
     "output_type": "execute_result"
    }
   ],
   "source": [
    "comparison_3[:3]"
   ]
  },
  {
   "cell_type": "markdown",
   "metadata": {},
   "source": [
    "Посмотрим на гистограммы и квантили для одного из экспериментов."
   ]
  },
  {
   "cell_type": "code",
   "execution_count": 41,
   "metadata": {},
   "outputs": [
    {
     "name": "stdout",
     "output_type": "stream",
     "text": [
      "25, 50 и 75 персентили времени работы у deque [0.00055504 0.00055504 0.00055599]\n",
      "25, 50 и 75 персентили времени работы у list [0.00070095 0.00070095 0.00070119]\n"
     ]
    }
   ],
   "source": [
    "print('25, 50 и 75 персентили времени работы у deque', np.quantile(comparison_3[5][9], [0.25, 0.5, 0.75]))\n",
    "print('25, 50 и 75 персентили времени работы у list', np.quantile(comparison_3[4][9], [0.25, 0.5, 0.75]))"
   ]
  },
  {
   "cell_type": "markdown",
   "metadata": {},
   "source": [
    "Квантили и графики распределений также говорят в пользу deque"
   ]
  },
  {
   "cell_type": "code",
   "execution_count": 38,
   "metadata": {},
   "outputs": [
    {
     "data": {
      "image/png": "[encoded data removed]",
      "text/plain": [
       "<Figure size 1080x360 with 2 Axes>"
      ]
     },
     "metadata": {},
     "output_type": "display_data"
    }
   ],
   "source": [
    "plt.figure(figsize=(15,5))\n",
    "plt.subplot(1, 2, 1)\n",
    "plt.hist(comparison_3[5][9])\n",
    "plt.title('Распределение времени работы операции pop у deque')\n",
    "plt.subplot(1, 2, 2)\n",
    "plt.hist(comparison_3[4][9])\n",
    "plt.title('Распределение времени работы операции pop у list')\n",
    "plt.show()"
   ]
  },
  {
   "cell_type": "markdown",
   "metadata": {},
   "source": [
    "Согласно документации deque являются более эффективными по памяти, чем list, что подтверждается экспериментами."
   ]
  },
  {
   "cell_type": "markdown",
   "metadata": {},
   "source": [
    "### Домашнее задание №4 [0 - 0.1 балла]\n",
    "\n",
    "**Условие:**\n",
    "    \n",
    "Написать аналог permutations и провести сравнение скорости работы и потребления памяти.\n",
    "\n",
    "**Комментарий:**\n",
    "\n",
    "Количесвто баллов зависит от полноты сравнения."
   ]
  },
  {
   "cell_type": "markdown",
   "metadata": {},
   "source": [
    "Реализовал алгоритм Хипса (Heap's algorithm) https://en.wikipedia.org/wiki/Heap%27s_algorithm"
   ]
  },
  {
   "cell_type": "code",
   "execution_count": 1,
   "metadata": {},
   "outputs": [],
   "source": [
    "def generate_permutations(k, array):\n",
    "    if k == 1:\n",
    "        yield array\n",
    "        \n",
    "    else:\n",
    "        for i in range(k):\n",
    "            for permutation in generate_permutations(k - 1, array):\n",
    "                yield permutation\n",
    "                \n",
    "            if k % 2 == 0:\n",
    "                array[i], array[k-1] = array[k-1], array[i]\n",
    "            else:\n",
    "                array[0], array[k-1] = array[k-1], array[0]\n",
    "    "
   ]
  },
  {
   "cell_type": "code",
   "execution_count": 10,
   "metadata": {},
   "outputs": [
    {
     "data": {
      "application/vnd.jupyter.widget-view+json": {
       "model_id": "8bab09d15b3147b2a12e7fc360bb8c94",
       "version_major": 2,
       "version_minor": 0
      },
      "text/plain": [
       "HBox(children=(IntProgress(value=0, max=8), HTML(value='')))"
      ]
     },
     "metadata": {},
     "output_type": "display_data"
    },
    {
     "name": "stdout",
     "output_type": "stream",
     "text": [
      "25, 50, 75 квантили itertools для массива из 1 элементов [0. 0. 0.]\n",
      "25, 50, 75 квантили Heaps для массива из 1 элементов [0. 0. 0.]\n",
      "25, 50, 75 квантили itertools для массива из 2 элементов [0. 0. 0.]\n",
      "25, 50, 75 квантили Heaps для массива из 2 элементов [0. 0. 0.]\n",
      "25, 50, 75 квантили itertools для массива из 3 элементов [0. 0. 0.]\n",
      "25, 50, 75 квантили Heaps для массива из 3 элементов [0. 0. 0.]\n",
      "25, 50, 75 квантили itertools для массива из 4 элементов [0. 0. 0.]\n",
      "25, 50, 75 квантили Heaps для массива из 4 элементов [0. 0. 0.]\n",
      "25, 50, 75 квантили itertools для массива из 5 элементов [0. 0. 0.]\n",
      "25, 50, 75 квантили Heaps для массива из 5 элементов [0. 0. 0.]\n",
      "25, 50, 75 квантили itertools для массива из 6 элементов [0. 0. 0.]\n",
      "25, 50, 75 квантили Heaps для массива из 6 элементов [0.00099707 0.00099754 0.00099874]\n",
      "25, 50, 75 квантили itertools для массива из 7 элементов [0.         0.         0.00099665]\n",
      "25, 50, 75 квантили Heaps для массива из 7 элементов [0.0069809  0.00698185 0.00795329]\n",
      "25, 50, 75 квантили itertools для массива из 8 элементов [0.         0.         0.00299174]\n",
      "25, 50, 75 квантили Heaps для массива из 8 элементов [0.05339205 0.05987334 0.06381339]\n",
      "\n"
     ]
    },
    {
     "data": {
      "image/png": "[encoded data removed]",
      "text/plain": [
       "<Figure size 864x1080 with 16 Axes>"
      ]
     },
     "metadata": {
      "needs_background": "light"
     },
     "output_type": "display_data"
    }
   ],
   "source": [
    "import time\n",
    "from matplotlib import pyplot as plt\n",
    "import numpy as np\n",
    "from itertools import permutations\n",
    "from tqdm import tqdm_notebook\n",
    "import seaborn as sns\n",
    "\n",
    "itertools_time = []\n",
    "heaps_time = []\n",
    "\n",
    "plt.figure(figsize=(12, 15))\n",
    "plt.suptitle('Распределение времени работы алгоритмов')\n",
    "\n",
    "N_experiments = 9 # максимальное количество элементов в массиве, предназначенном для перестановок\n",
    "for i in tqdm_notebook(range(1, N_experiments)):\n",
    "    time_of_work_itertools_permutations = []\n",
    "    time_of_work_heaps_permutations = []\n",
    "    array_for_permutations = np.arange(i)\n",
    "    for j in range(100):\n",
    "        t_start = time.time()\n",
    "        for permutation in permutations(array_for_permutations):\n",
    "            pass\n",
    "        time_of_work_itertools_permutations.append(time.time() - t_start)\n",
    "        \n",
    "        t_start = time.time()\n",
    "        for permutation in generate_permutations(i, array_for_permutations):\n",
    "            pass\n",
    "        time_of_work_heaps_permutations.append(time.time() - t_start)\n",
    "        \n",
    "        \n",
    "    itertools_time.append(np.mean(time_of_work_itertools_permutations))\n",
    "    heaps_time.append(np.mean(time_of_work_heaps_permutations))\n",
    "    \n",
    "    print('25, 50, 75 квантили itertools для массива из {} элементов'.format(i), \n",
    "          np.quantile(time_of_work_itertools_permutations, [0.25, 0.5, 0.75]))\n",
    "    print('25, 50, 75 квантили Heaps для массива из {} элементов'.format(i), \n",
    "          np.quantile(time_of_work_heaps_permutations, [0.25, 0.5, 0.75]))\n",
    "    \n",
    "    plt.subplot(len(range(1, N_experiments)), 2, 2*i-1)\n",
    "    #sns.distplot(time_of_work_itertools_permutations, hist=False, label='itertools', color='lightgreen')\n",
    "    plt.hist(time_of_work_itertools_permutations, label='itertools')\n",
    "    plt.legend()\n",
    "    plt.subplot(len(range(1, N_experiments)), 2, 2*i)\n",
    "    plt.hist(time_of_work_heaps_permutations, label='heaps')\n",
    "    #sns.distplot(time_of_work_heaps_permutations, hist=False, label='heaps', color='salmon')\n",
    "    plt.legend()"
   ]
  },
  {
   "cell_type": "markdown",
   "metadata": {},
   "source": [
    "Для маленьких массивов (примерно до длины 5-6) алгоритмы работают одинаково быстро. При увеличении количества элементов моя реализация начинает сильно проигрывать, что видно как на графиках, так и по квантилям. Если увеличить количество экспериментов (N_experiments), то разница становится еще более очевидна."
   ]
  },
  {
   "cell_type": "code",
   "execution_count": null,
   "metadata": {},
   "outputs": [],
   "source": [
    "#! pip install memory_profiler"
   ]
  },
  {
   "cell_type": "code",
   "execution_count": 2,
   "metadata": {},
   "outputs": [],
   "source": [
    "%load_ext memory_profiler"
   ]
  },
  {
   "cell_type": "code",
   "execution_count": 7,
   "metadata": {
    "scrolled": true
   },
   "outputs": [
    {
     "name": "stdout",
     "output_type": "stream",
     "text": [
      "peak memory: 42.98 MiB, increment: 0.01 MiB\n"
     ]
    }
   ],
   "source": [
    "%memit permutations([1, 2, 3, 4, 5, 6])"
   ]
  },
  {
   "cell_type": "code",
   "execution_count": 8,
   "metadata": {
    "scrolled": true
   },
   "outputs": [
    {
     "name": "stdout",
     "output_type": "stream",
     "text": [
      "peak memory: 42.99 MiB, increment: 0.01 MiB\n"
     ]
    }
   ],
   "source": [
    "%memit generate_permutations(6, [1, 2, 3, 4, 5, 6])"
   ]
  },
  {
   "cell_type": "code",
   "execution_count": 5,
   "metadata": {
    "scrolled": true
   },
   "outputs": [
    {
     "name": "stdout",
     "output_type": "stream",
     "text": [
      "peak memory: 42.93 MiB, increment: 0.03 MiB\n"
     ]
    }
   ],
   "source": [
    "%memit permutations([1, 2, 3, 4, 5, 6, 7, 8, 9])"
   ]
  },
  {
   "cell_type": "code",
   "execution_count": 6,
   "metadata": {},
   "outputs": [
    {
     "name": "stdout",
     "output_type": "stream",
     "text": [
      "peak memory: 42.96 MiB, increment: 0.01 MiB\n"
     ]
    }
   ],
   "source": [
    "%memit generate_permutations(9, [1, 2, 3, 4, 5, 6, 7, 8, 9])"
   ]
  },
  {
   "cell_type": "markdown",
   "metadata": {},
   "source": [
    "Обе реализации генераторы, видимо поэтому они занимают одинаково памяти"
   ]
  },
  {
   "cell_type": "code",
   "execution_count": null,
   "metadata": {},
   "outputs": [],
   "source": []
  }
 ],
 "metadata": {
  "kernelspec": {
   "display_name": "Python 3",
   "language": "python",
   "name": "python3"
  },
  "language_info": {
   "codemirror_mode": {
    "name": "ipython",
    "version": 3
   },
   "file_extension": ".py",
   "mimetype": "text/x-python",
   "name": "python",
   "nbconvert_exporter": "python",
   "pygments_lexer": "ipython3",
   "version": "3.6.5"
  }
 },
 "nbformat": 4,
 "nbformat_minor": 2
}
